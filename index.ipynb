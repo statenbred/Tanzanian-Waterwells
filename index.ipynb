{
 "cells": [
  {
   "cell_type": "markdown",
   "id": "ecce050a",
   "metadata": {},
   "source": [
    "# Phase 3 Project Description"
   ]
  },
  {
   "cell_type": "markdown",
   "id": "8a218279",
   "metadata": {},
   "source": [
    "Congratulations! You've made it through another _intense_ module, and now you're ready to show off your newfound Machine Learning skills\n",
    "\n",
    "All that remains in Phase 3 is to put your new skills to use with another large project.\n",
    "\n",
    "In this project description, we will cover:\n",
    "\n",
    "* Project Overview\n",
    "* Deliverables\n",
    "* Grading\n",
    "* Getting Started"
   ]
  },
  {
   "cell_type": "markdown",
   "id": "d4a2907b",
   "metadata": {},
   "source": [
    "## Project Overview"
   ]
  },
  {
   "cell_type": "markdown",
   "id": "e04c9174",
   "metadata": {},
   "source": [
    "For this project, you will engage in the full data science process from start to finish, solving a **classification** problem using a **dataset of your choice**."
   ]
  },
  {
   "cell_type": "markdown",
   "id": "a77777e1",
   "metadata": {},
   "source": [
    "### Business Problem and Data"
   ]
  },
  {
   "cell_type": "markdown",
   "id": "3bc2d351",
   "metadata": {},
   "source": [
    "It is up to you to define a stakeholder, a business problem, and you are also responsible for choosing a dataset.\n",
    "\n",
    "For complete details, see [Phase 3 Project - Choosing a Dataset](https://github.com/learn-co-curriculum/dsc-phase-3-choosing-a-dataset)."
   ]
  },
  {
   "cell_type": "markdown",
   "id": "6f47c395",
   "metadata": {},
   "source": [
    "### Key Points"
   ]
  },
  {
   "cell_type": "markdown",
   "id": "30e306c6",
   "metadata": {},
   "source": [
    "#### Classification"
   ]
  },
  {
   "cell_type": "markdown",
   "id": "6f14e9f0",
   "metadata": {},
   "source": [
    "Recall the distinction between *classification* and *regression* models:\n",
    "\n",
    " * Classification is used when the target variable is a *category*\n",
    " * Regression is used when the target variable is a *numeric value*\n",
    "\n",
    "(Categorical data may be represented in the data as numbers, e.g. 0 and 1, but they are not truly numeric values. If you're unsure, ask yourself \"is a target value of 1 _one more than_ a target value of 0\"; if it is one more, that is a regression target, if not, that is a classification target.)\n",
    "\n",
    "You will have additional opportunities to work on regression problems in later phases, but **for this project, you must be modeling a classification problem**."
   ]
  },
  {
   "cell_type": "markdown",
   "id": "1c050bde",
   "metadata": {},
   "source": [
    "#### Findings and Recommendations"
   ]
  },
  {
   "cell_type": "markdown",
   "id": "0be19f65",
   "metadata": {},
   "source": [
    "In the previous two projects, the framing was primarily *descriptive* and *inferential*, meaning that you were trying to understand the distributions of variables and the relationship between them. For this project you can still use these techniques, but make sure you are also using a ***predictive*** approach.\n",
    "\n",
    "A predictive *finding* might include:\n",
    "\n",
    "* How well your model is able to predict the target\n",
    "* What features are most important to your model\n",
    "\n",
    "A predictive *recommendation* might include:\n",
    "\n",
    "* The contexts/situations where the predictions made by your model would and would not be useful for your stakeholder and business problem\n",
    "* Suggestions for how the business might modify certain input variables to achieve certain target results"
   ]
  },
  {
   "cell_type": "markdown",
   "id": "44602780",
   "metadata": {},
   "source": [
    "#### Iterative Approach to Modeling"
   ]
  },
  {
   "cell_type": "markdown",
   "id": "01512996",
   "metadata": {},
   "source": [
    "You should demonstrate an iterative approach to modeling. This means that you must build multiple models. Begin with a basic model, evaluate it, and then provide justification for and proceed to a new model. After you finish refining your models, you should provide 1-3 paragraphs in the notebook discussing your final model.\n",
    "\n",
    "With the additional techniques you have learned in Phase 3, be sure to explore:\n",
    "\n",
    "1. Model features and preprocessing approaches\n",
    "2. Different kinds of models (logistic regression, decision trees, etc.)\n",
    "3. Different model hyperparameters\n",
    "\n",
    "At minimum you must build two models:\n",
    "\n",
    "* A simple, interpretable baseline model (logistic regression or single decision tree)\n",
    "* A version of the simple model with tuned hyperparameters"
   ]
  },
  {
   "cell_type": "markdown",
   "id": "037b098b",
   "metadata": {},
   "source": [
    "#### Classification Metrics"
   ]
  },
  {
   "cell_type": "markdown",
   "id": "81c23daa",
   "metadata": {},
   "source": [
    "**You must choose appropriate classification metrics and use them to evaluate your models.** Choosing the right classification metrics is a key data science skill, and should be informed by data exploration and the business problem itself. You must then use this metric to evaluate your model performance using both training and testing data."
   ]
  },
  {
   "cell_type": "markdown",
   "id": "692ec18f",
   "metadata": {},
   "source": [
    "## Deliverables"
   ]
  },
  {
   "cell_type": "markdown",
   "id": "370efa9b",
   "metadata": {},
   "source": [
    "There are three deliverables for this project:\n",
    "\n",
    "* A **non-technical presentation**\n",
    "* A **Jupyter Notebook**\n",
    "* A **GitHub repository**"
   ]
  },
  {
   "cell_type": "markdown",
   "id": "505423ff",
   "metadata": {},
   "source": [
    "### Non-Technical Presentation"
   ]
  },
  {
   "cell_type": "markdown",
   "id": "b325bfd3",
   "metadata": {},
   "source": [
    "Recall that the non-technical presentation is a slide deck presenting your analysis to ***business stakeholders***, and should be presented live as well as submitted in PDF form on Canvas.\n",
    "\n",
    "We recommend that you follow this structure, although the slide titles should be specific to your project:\n",
    "\n",
    "1. Beginning\n",
    "    - Overview\n",
    "    - Business and Data Understanding\n",
    "2. Middle\n",
    "    - Modeling\n",
    "    - **Evaluation**\n",
    "3. End\n",
    "    - Recommendations\n",
    "    - Next Steps\n",
    "    - Thank you\n",
    "\n",
    "Make sure that your discussion of classification modeling is geared towards a non-technical audience! Assume that their prior knowledge of machine learning is minimal. You don't need to explain the details of your model implementations, but you should explain why classification is useful for the problem context. Make sure you translate any metrics or feature importances into their plain language implications.\n",
    "\n",
    "The graded elements for the non-technical presentation are the same as in [Phase 1](https://github.com/learn-co-curriculum/dsc-phase-1-project-v3#deliverables) and [Phase 2]((https://github.com/learn-co-curriculum/dsc-phase-2-project-v3#deliverables))."
   ]
  },
  {
   "cell_type": "markdown",
   "id": "3f029a5c",
   "metadata": {},
   "source": [
    "### Jupyter Notebook"
   ]
  },
  {
   "cell_type": "markdown",
   "id": "4785a8a0",
   "metadata": {},
   "source": [
    "Recall that the Jupyter Notebook is a notebook that uses Python and Markdown to present your analysis to a ***data science audience***. You will submit the notebook in PDF format on Canvas as well as in `.ipynb` format in your GitHub repository.\n",
    "\n",
    "The graded elements for the Jupyter Notebook are:\n",
    "\n",
    "* Business Understanding\n",
    "* Data Understanding\n",
    "* Data Preparation\n",
    "* Modeling\n",
    "* **Evaluation**\n",
    "* Code Quality"
   ]
  },
  {
   "cell_type": "markdown",
   "id": "bebf2503",
   "metadata": {},
   "source": [
    "### GitHub Repository"
   ]
  },
  {
   "cell_type": "markdown",
   "id": "17211652",
   "metadata": {},
   "source": [
    "### GitHub Repository\n",
    "\n",
    "Recall that the GitHub repository is the cloud-hosted directory containing all of your project files as well as their version history.\n",
    "\n",
    "The requirements are the same as in [Phase 1](https://github.com/learn-co-curriculum/dsc-phase-1-project-v3#github-repository) and [Phase 2](https://github.com/learn-co-curriculum/dsc-phase-2-project-v3#github-repository), except for the required sections in the `README.md`.\n",
    "\n",
    "For this project, the `README.md` file should contain:\n",
    "\n",
    "* Overview\n",
    "* Business and Data Understanding\n",
    "  * Explain your stakeholder audience and dataset choice here\n",
    "* Modeling\n",
    "* **Evaluation**\n",
    "* Conclusion\n",
    "\n",
    "Just like in Phase 1 and 2, the `README.md` file should be the bridge between your non technical presentation and the Jupyter Notebook. It should not contain the code used to develop your analysis, but should provide a more in-depth explanation of your methodology and analysis than what is described in your presentation slides."
   ]
  },
  {
   "cell_type": "markdown",
   "id": "b08f10ca",
   "metadata": {},
   "source": [
    "## Grading"
   ]
  },
  {
   "cell_type": "markdown",
   "id": "a95274d9",
   "metadata": {},
   "source": [
    "***To pass this project, you must pass each project rubric objective.*** The project rubric objectives for Phase 3 are:\n",
    "\n",
    "1. ML Communication\n",
    "2. Data Preparation for Machine Learning\n",
    "3. Nonparametric and Ensemble Modeling"
   ]
  },
  {
   "cell_type": "markdown",
   "id": "91333c8c",
   "metadata": {},
   "source": [
    "### ML Communication"
   ]
  },
  {
   "cell_type": "markdown",
   "id": "88b30cf8",
   "metadata": {},
   "source": [
    "Recall that communication is one of the key data science \"soft skills\". In Phase 3, we are specifically focusing on ML Communication. We define ML Communication as:\n",
    "\n",
    "> Communicate the **performance** of and **insights** generated by machine learning models to diverse audiences via writing, live presentation, and visualization\n",
    "\n",
    "High-quality ML Communication includes rationale, results, limitations, and recommendations:\n",
    "\n",
    "* **Rationale:** Explaining why you are using machine learning rather than a simpler form of data analysis\n",
    "  * What about the problem or data is suitable for this form of analysis?\n",
    "  * For a data science audience, this includes your reasoning for the changes you applied while iterating between models.\n",
    "* **Results:** Describing the classification metrics\n",
    "  * You can report multiple metrics for a single model, but make sure that indicate a reason for which metrics you are using (and don't try to use all of them at once)\n",
    "  * For a business audience, make sure you connect any metrics to real-world implications. You do not need to get into the details of how the model works.\n",
    "  * For a data science audience, you don't need to explain what a metric is, but make sure you explain why you chose that particular one.\n",
    "* **Limitations:** Identifying the limitations and/or uncertainty present in your analysis\n",
    "  * Are there certain kinds of records where model performance is worse? If you used this model in production, what kinds of problems might that cause?\n",
    "  * In general, this should be more in-depth for a data science audience and more surface-level for a business audience.\n",
    "* **Recommendations:** Interpreting the model results and limitations in the context of the business problem\n",
    "  * What should stakeholders _do_ with this information?"
   ]
  },
  {
   "cell_type": "markdown",
   "id": "2aa952b0",
   "metadata": {},
   "source": [
    "#### Exceeds Objective"
   ]
  },
  {
   "cell_type": "markdown",
   "id": "45842b0b",
   "metadata": {},
   "source": [
    "Communicates the rationale, results, limitations, and specific recommendations generated by a classification model\n",
    "\n",
    "> See above for an extended explanation of these terms."
   ]
  },
  {
   "cell_type": "markdown",
   "id": "c79a0d35",
   "metadata": {},
   "source": [
    "#### Meets Objective (Passing Bar)"
   ]
  },
  {
   "cell_type": "markdown",
   "id": "c30c15f6",
   "metadata": {},
   "source": [
    "Successfully communicates model metrics without any major errors\n",
    "\n",
    "> The minimum requirement is to communicate the _results_, meaning at least one overall model metric for your final model. See the Approaching Objective section for an explanation of what a \"major error\" means."
   ]
  },
  {
   "cell_type": "markdown",
   "id": "437e4a82",
   "metadata": {},
   "source": [
    "#### Approaching Objective"
   ]
  },
  {
   "cell_type": "markdown",
   "id": "c9a08969",
   "metadata": {},
   "source": [
    "Communicates model metrics with at least one major error\n",
    "\n",
    "> A major error means that some aspect of your explanation is fundamentally incorrect. For example, if you report a regression metric for a classification model, that would be a major error. Another example would be if you report the model's performance on the training data, rather than the model's performance on the test data."
   ]
  },
  {
   "cell_type": "markdown",
   "id": "b2012b51",
   "metadata": {},
   "source": [
    "#### Does Not Meet Objective"
   ]
  },
  {
   "cell_type": "markdown",
   "id": "187cf396",
   "metadata": {},
   "source": [
    "Does not communicate model metrics\n",
    "\n",
    "> It is not sufficient just to display the `classification_report` or confusion matrix for a given model. You need to focus on one or more specific metrics that are important for your business case."
   ]
  },
  {
   "cell_type": "markdown",
   "id": "eb0b99dc",
   "metadata": {},
   "source": [
    "### Data Preparation for Machine Learning"
   ]
  },
  {
   "cell_type": "markdown",
   "id": "1450c374",
   "metadata": {},
   "source": [
    "We define this objective as:\n",
    "\n",
    "> Applying appropriate preprocessing and feature engineering steps to tabular data in preparation for predictive modeling\n",
    "\n",
    "You still to ensure that you have a strategy for dealing with missing and non-numeric data.\n",
    "\n",
    "For the Phase 3 project, make sure you also consider:\n",
    "\n",
    "* **Preventing Data Leakage:** As you prepare data for modeling, make sure that you are correctly applying data preparation techniques so that your model's performance on test data realistically represents how it would perform on unseen data. For scikit-learn transformers specifically, ***make sure that you do not fit the transformer on the test data***. Instead, fit the transformer on the training data and use it to transform both the train and test data.\n",
    "* **Scaling:** If you are using a distance-based model algorithm (e.g. kNN or logistic regression with regularization), make sure you scale your data prior to fitting the model.\n",
    "\n",
    "Feature engineering is encouraged but not required for this project."
   ]
  },
  {
   "cell_type": "markdown",
   "id": "ab71f49f",
   "metadata": {},
   "source": [
    "#### Exceeds Objective"
   ]
  },
  {
   "cell_type": "markdown",
   "id": "89eb7412",
   "metadata": {},
   "source": [
    "Goes above and beyond with data preparation, such as feature engineering or using pipelines\n",
    "\n",
    "> Relevant examples of feature engineering will depend on your choice of dataset and business problem.\n",
    "\n",
    "> Pipelines are the best-practice approach to data preparation that avoids leakage, but they can get complicated very quickly. We therefore do not recommend that you use pipelines in your initial modeling approach, but rather that you refactor to use pipelines if you have time."
   ]
  },
  {
   "cell_type": "markdown",
   "id": "a1dc5e28",
   "metadata": {},
   "source": [
    "#### Meets Objective (Passing Bar)"
   ]
  },
  {
   "cell_type": "markdown",
   "id": "b1f565d9",
   "metadata": {},
   "source": [
    "Successfully prepares data for modeling, using a final holdout dataset that is transformed by (but not fitted on) transformers used to prepare training data AND scaling data when appropriate\n",
    "\n",
    "> See the descriptions above for explanations of how to use transformers and scaling."
   ]
  },
  {
   "cell_type": "markdown",
   "id": "88dfc414",
   "metadata": {},
   "source": [
    "#### Approaching Objective"
   ]
  },
  {
   "cell_type": "markdown",
   "id": "11005526",
   "metadata": {},
   "source": [
    "Prepares some data successfully, but has at least one major error\n",
    "\n",
    "> A major error means that some aspect of your data preparation is fundamentally incorrect. Some examples of major errors include: (1) fitting transformers on test data, (2) not performing a train-test split, (3) not scaling data that is used in a distance-based model."
   ]
  },
  {
   "cell_type": "markdown",
   "id": "da312227",
   "metadata": {},
   "source": [
    "#### Does Not Meet Objective"
   ]
  },
  {
   "cell_type": "markdown",
   "id": "5762c44a",
   "metadata": {},
   "source": [
    "Does not prepare data for modeling\n",
    "\n",
    "> This includes projects where data is partially prepared, but the model is unable to run."
   ]
  },
  {
   "cell_type": "markdown",
   "id": "b8a5a6c0",
   "metadata": {},
   "source": [
    "### Nonparametric and Ensemble Modeling"
   ]
  },
  {
   "cell_type": "markdown",
   "id": "9a3b79ab",
   "metadata": {},
   "source": [
    "Your project should consider the different types of models that have been covered in the course so far and whether they are appropriate or inappropriate for the dataset and business case you are working with.\n",
    "\n",
    "Your final model can still be a linear model (e.g. logistic regression) but you should explore at least one nonparametric model (e.g. decision tree) as well and articulate why one or the other is a better approach."
   ]
  },
  {
   "cell_type": "markdown",
   "id": "7e9c896e",
   "metadata": {},
   "source": [
    "#### Exceeds Objective"
   ]
  },
  {
   "cell_type": "markdown",
   "id": "584da5ff",
   "metadata": {},
   "source": [
    "Goes above and beyond in the modeling process, such as articulating why a given model type is best suited to the problem or correctly using scikit-learn models not covered in the curriculum\n",
    "\n",
    "> Another way you might go above and beyond would be to create custom Python classes, possibly inheriting from scikit-learn classes."
   ]
  },
  {
   "cell_type": "markdown",
   "id": "816c383c",
   "metadata": {},
   "source": [
    "#### Meets Objective (Passing Bar)"
   ]
  },
  {
   "cell_type": "markdown",
   "id": "0a25e63b",
   "metadata": {},
   "source": [
    "Uses at least two types of scikit-learn model and tunes at least one hyperparameter in a justifiable way without any major errors\n",
    "\n",
    "> See the \"Iterative Approach to Modeling\" section above for a more-lengthy explanation.\n",
    "\n",
    "> Once again, ideally you would include written justifications for each model iteration, but at minimum the iterations must be _justifiable_.\n",
    "\n",
    "> For an explanation of \"major errors\", see the description under \"Approaching Objective\"."
   ]
  },
  {
   "cell_type": "markdown",
   "id": "1e7f86a8",
   "metadata": {},
   "source": [
    "#### Approaching Objective"
   ]
  },
  {
   "cell_type": "markdown",
   "id": "f7f600ef",
   "metadata": {},
   "source": [
    "Builds multiple classification models with at least one major error\n",
    "\n",
    "> A major error means that some aspect of your modeling approach is fundamentally incorrect.\n",
    "\n",
    "> Once again, the number one major error to avoid is including the target as one of your features. If you are getting metrics that are \"too good to be true\", make sure that you removed the target (`y`) from your data before fitting the model.\n",
    "\n",
    "> Other examples of major errors include: using a numeric target value (since this is a classification project), not starting with a baseline model (e.g. proceeding directly to a Random Forest model), or not tuning hyperparameters in a justifiable way (e.g. reducing regularization on a model that is overfitting)"
   ]
  },
  {
   "cell_type": "markdown",
   "id": "b9b858dc",
   "metadata": {},
   "source": [
    "#### Does Not Meet Objective"
   ]
  },
  {
   "cell_type": "markdown",
   "id": "0ba3bca3",
   "metadata": {},
   "source": [
    "Does not build multiple classification models"
   ]
  },
  {
   "cell_type": "markdown",
   "id": "d71080d7",
   "metadata": {},
   "source": [
    "## Getting Started"
   ]
  },
  {
   "cell_type": "markdown",
   "id": "1dfef695",
   "metadata": {},
   "source": [
    "Please start by reviewing the contents of this project description. If you have any questions, please ask your instructor ASAP.\n",
    "\n",
    "Once you are ready to begin the project, you will need to complete the Project Proposal.\n",
    "\n",
    "Recall that more information is available in [Phase 3 Project - Choosing a Dataset](https://github.com/learn-co-curriculum/dsc-phase-3-choosing-a-dataset).\n",
    "\n",
    "To get started with project development, create a new repository on GitHub. For this project, we recommend that you do not fork the template repository, but rather that you make a new repository from scratch, starting by going to [github.com/new](https://github.com/new)."
   ]
  },
  {
   "cell_type": "markdown",
   "id": "fa674326",
   "metadata": {},
   "source": [
    "## Summary"
   ]
  },
  {
   "cell_type": "markdown",
   "id": "aaad1929",
   "metadata": {},
   "source": [
    "This project is an opportunity to expand your data science toolkit by evaluating, choosing, and working with new datasets. Spending time up front making sure you have a good dataset for a solvable problem will help avoid the major problems that can sometimes derail data science projects. You've got this!"
   ]
  }
 ],
 "metadata": {
  "kernelspec": {
   "display_name": "Python (learn-env)",
   "language": "python",
   "name": "learn-env"
  },
  "language_info": {
   "codemirror_mode": {
    "name": "ipython",
    "version": 3
   },
   "file_extension": ".py",
   "mimetype": "text/x-python",
   "name": "python",
   "nbconvert_exporter": "python",
   "pygments_lexer": "ipython3",
   "version": "3.9.16"
  }
 },
 "nbformat": 4,
 "nbformat_minor": 5
}
